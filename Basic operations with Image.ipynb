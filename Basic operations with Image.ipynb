{
 "cells": [
  {
   "cell_type": "markdown",
   "id": "48e7f9c9",
   "metadata": {},
   "source": [
    "Basic Operations on Images"
   ]
  },
  {
   "cell_type": "markdown",
   "id": "7960219a",
   "metadata": {},
   "source": [
    "Learn to:\n",
    "\n",
    ". Access pixel values and modify them\n",
    "\n",
    ". Access image properties\n",
    "\n",
    ". Set a Region of Interest (ROI)\n",
    "\n",
    ". Split and merge images"
   ]
  },
  {
   "cell_type": "code",
   "execution_count": 1,
   "id": "d2c9952b",
   "metadata": {},
   "outputs": [
    {
     "name": "stdout",
     "output_type": "stream",
     "text": [
      "[220 215 216]\n"
     ]
    }
   ],
   "source": [
    "import numpy as np\n",
    "import cv2 as cv\n",
    "\n",
    "img = cv.imread('2.jpg')\n",
    "px = img[100,100]\n",
    "print( px )"
   ]
  },
  {
   "cell_type": "code",
   "execution_count": 2,
   "id": "ca6ee06d",
   "metadata": {},
   "outputs": [
    {
     "name": "stdout",
     "output_type": "stream",
     "text": [
      "220\n"
     ]
    }
   ],
   "source": [
    "# accessing only blue pixel\n",
    "\n",
    "blue = img[100,100,0]\n",
    "print( blue )"
   ]
  },
  {
   "cell_type": "markdown",
   "id": "f518675f",
   "metadata": {},
   "source": [
    "You can modify the pixel values the same way."
   ]
  },
  {
   "cell_type": "code",
   "execution_count": 3,
   "id": "5030fdf4",
   "metadata": {},
   "outputs": [
    {
     "name": "stdout",
     "output_type": "stream",
     "text": [
      "[255 255 255]\n"
     ]
    }
   ],
   "source": [
    "img[100,100] = [255,255,255]\n",
    "print( img[100,100] )"
   ]
  },
  {
   "cell_type": "markdown",
   "id": "47777b49",
   "metadata": {},
   "source": [
    "#### Accessing Image Properties\n",
    "\n",
    "Image properties include number of rows, columns, and channels; type of image data; number of pixels; etc."
   ]
  },
  {
   "cell_type": "code",
   "execution_count": 4,
   "id": "3039277c",
   "metadata": {},
   "outputs": [
    {
     "name": "stdout",
     "output_type": "stream",
     "text": [
      "(6000, 4000, 3)\n"
     ]
    }
   ],
   "source": [
    "print( img.shape )"
   ]
  },
  {
   "cell_type": "code",
   "execution_count": 5,
   "id": "ab583603",
   "metadata": {},
   "outputs": [
    {
     "name": "stdout",
     "output_type": "stream",
     "text": [
      "72000000\n"
     ]
    }
   ],
   "source": [
    "#Total number of pixels is accessed by\n",
    "print( img.size )"
   ]
  },
  {
   "cell_type": "markdown",
   "id": "acfcfcbf",
   "metadata": {},
   "source": [
    "#### Image ROI\n",
    "\n",
    "Sometimes, you will have to play with certain regions of images. For eye detection in images, first face detection is done over the entire image. When a face is obtained, we select the face region alone and search for eyes inside it instead of searching the whole image. It improves accuracy (because eyes are always on faces :D ) and performance (because we search in a small area).\n",
    "\n",
    "ROI is again obtained using Numpy indexing."
   ]
  },
  {
   "cell_type": "code",
   "execution_count": 11,
   "id": "374209f4",
   "metadata": {},
   "outputs": [
    {
     "ename": "AttributeError",
     "evalue": "'numpy.ndarray' object has no attribute 'imshow'",
     "output_type": "error",
     "traceback": [
      "\u001b[1;31m---------------------------------------------------------------------------\u001b[0m",
      "\u001b[1;31mAttributeError\u001b[0m                            Traceback (most recent call last)",
      "Input \u001b[1;32mIn [11]\u001b[0m, in \u001b[0;36m<cell line: 1>\u001b[1;34m()\u001b[0m\n\u001b[1;32m----> 1\u001b[0m \u001b[43mimg\u001b[49m\u001b[38;5;241;43m.\u001b[39;49m\u001b[43mimshow\u001b[49m()\n",
      "\u001b[1;31mAttributeError\u001b[0m: 'numpy.ndarray' object has no attribute 'imshow'"
     ]
    }
   ],
   "source": [
    "img.imshow()"
   ]
  },
  {
   "cell_type": "code",
   "execution_count": 9,
   "id": "82241b8d",
   "metadata": {},
   "outputs": [
    {
     "name": "stdout",
     "output_type": "stream",
     "text": [
      "[[[203 198 195]\n",
      "  [216 211 208]\n",
      "  [221 216 213]\n",
      "  ...\n",
      "  [207 202 199]\n",
      "  [211 206 203]\n",
      "  [208 203 200]]\n",
      "\n",
      " [[201 196 193]\n",
      "  [204 199 196]\n",
      "  [208 203 200]\n",
      "  ...\n",
      "  [211 206 203]\n",
      "  [211 206 203]\n",
      "  [210 205 202]]\n",
      "\n",
      " [[202 197 194]\n",
      "  [197 192 189]\n",
      "  [200 195 192]\n",
      "  ...\n",
      "  [211 206 203]\n",
      "  [207 202 199]\n",
      "  [208 203 200]]\n",
      "\n",
      " ...\n",
      "\n",
      " [[215 208 205]\n",
      "  [212 205 202]\n",
      "  [209 202 199]\n",
      "  ...\n",
      "  [208 201 198]\n",
      "  [203 196 193]\n",
      "  [207 200 197]]\n",
      "\n",
      " [[218 211 208]\n",
      "  [215 208 205]\n",
      "  [210 203 200]\n",
      "  ...\n",
      "  [209 202 199]\n",
      "  [204 197 194]\n",
      "  [206 199 196]]\n",
      "\n",
      " [[209 202 199]\n",
      "  [207 200 197]\n",
      "  [204 197 194]\n",
      "  ...\n",
      "  [217 210 207]\n",
      "  [212 205 202]\n",
      "  [211 204 201]]]\n"
     ]
    }
   ],
   "source": [
    "ball = img[280:340, 330:390]\n",
    "img[273:333, 100:160] = ball\n",
    "print(ball)"
   ]
  },
  {
   "cell_type": "markdown",
   "id": "569c4e67",
   "metadata": {},
   "source": [
    "##### Splitting and Merging Image Channels\n",
    "Sometimes you will need to work separately on the B,G,R channels of an image. In this case, you need to split the BGR image into single channels. \n"
   ]
  },
  {
   "cell_type": "code",
   "execution_count": 12,
   "id": "4b532854",
   "metadata": {},
   "outputs": [],
   "source": [
    "b,g,r = cv.split(img)\n",
    "img = cv.merge((b,g,r))"
   ]
  },
  {
   "cell_type": "code",
   "execution_count": 13,
   "id": "3ac42785",
   "metadata": {},
   "outputs": [],
   "source": [
    "#cv.split() is a costly operation (in terms of time). So use it only if necessary. Otherwise go for Numpy indexing.\n",
    "\n",
    "#Suppose you want to set all the red pixels to zero - you do not need to split the channels first. Numpy indexing is faster:\n",
    "img[:,:,2] = 0"
   ]
  },
  {
   "cell_type": "markdown",
   "id": "520edd04",
   "metadata": {},
   "source": [
    "#### Making Borders for Images (Padding)\n",
    "\n",
    "src - input image\n",
    "\n",
    "top, bottom, left, right - border width in number of pixels in corresponding directions\n",
    "\n",
    "borderType - Flag defining what kind of border to be added. It can be following types:\n",
    "    \n",
    "    a) cv.BORDER_CONSTANT - Adds a constant colored border. The value should be given as next argument.\n",
    "    \n",
    "    b) cv.BORDER_REFLECT - Border will be mirror reflection of the border elements, like this : fedcba|abcdefgh|hgfedcb\n",
    "    \n",
    "    c) cv.BORDER_REFLECT_101 or cv.BORDER_DEFAULT - Same as above, but with a slight change, like this : gfedcb|abcdefgh|gfedcba\n",
    "    \n",
    "    d) cv.BORDER_REPLICATE - Last element is replicated throughout, like this: aaaaaa|abcdefgh|hhhhhhh\n",
    "    \n",
    "    e) cv.BORDER_WRAP - Can't explain, it will look like this : cdefgh|abcdefgh|abcdefg\n",
    "\n",
    "value - Color of border if border type is cv.BORDER_CONSTANT"
   ]
  },
  {
   "cell_type": "code",
   "execution_count": 16,
   "id": "306be91c",
   "metadata": {},
   "outputs": [
    {
     "name": "stdout",
     "output_type": "stream",
     "text": [
      "Collecting matplotlib\n",
      "  Using cached matplotlib-3.5.2-cp38-cp38-win_amd64.whl (7.2 MB)\n",
      "Requirement already satisfied: python-dateutil>=2.7 in d:\\documents\\projects\\opencv_basics\\opencv\\lib\\site-packages (from matplotlib) (2.8.2)\n",
      "Requirement already satisfied: pyparsing>=2.2.1 in d:\\documents\\projects\\opencv_basics\\opencv\\lib\\site-packages (from matplotlib) (3.0.9)\n",
      "Requirement already satisfied: numpy>=1.17 in d:\\documents\\projects\\opencv_basics\\opencv\\lib\\site-packages (from matplotlib) (1.23.1)\n",
      "Collecting kiwisolver>=1.0.1\n",
      "  Using cached kiwisolver-1.4.4-cp38-cp38-win_amd64.whl (55 kB)\n",
      "Requirement already satisfied: packaging>=20.0 in d:\\documents\\projects\\opencv_basics\\opencv\\lib\\site-packages (from matplotlib) (21.3)\n",
      "Collecting fonttools>=4.22.0\n",
      "  Using cached fonttools-4.34.4-py3-none-any.whl (944 kB)\n",
      "Collecting cycler>=0.10\n",
      "  Using cached cycler-0.11.0-py3-none-any.whl (6.4 kB)\n",
      "Collecting pillow>=6.2.0\n",
      "  Using cached Pillow-9.2.0-cp38-cp38-win_amd64.whl (3.3 MB)\n",
      "Requirement already satisfied: six>=1.5 in d:\\documents\\projects\\opencv_basics\\opencv\\lib\\site-packages (from python-dateutil>=2.7->matplotlib) (1.16.0)\n",
      "Installing collected packages: pillow, kiwisolver, fonttools, cycler, matplotlib\n",
      "Successfully installed cycler-0.11.0 fonttools-4.34.4 kiwisolver-1.4.4 matplotlib-3.5.2 pillow-9.2.0\n"
     ]
    }
   ],
   "source": [
    "!pip install matplotlib"
   ]
  },
  {
   "cell_type": "code",
   "execution_count": 17,
   "id": "60791de9",
   "metadata": {},
   "outputs": [
    {
     "data": {
      "image/png": "[encoded data removed]",
      "text/plain": [
       "<Figure size 432x288 with 6 Axes>"
      ]
     },
     "metadata": {
      "needs_background": "light"
     },
     "output_type": "display_data"
    }
   ],
   "source": [
    "import cv2 as cv\n",
    "import numpy as np\n",
    "from matplotlib import pyplot as plt\n",
    "\n",
    "BLUE = [255,0,0]\n",
    "img1 = cv.imread('opencv.png')\n",
    "replicate = cv.copyMakeBorder(img1,10,10,10,10,cv.BORDER_REPLICATE)\n",
    "reflect = cv.copyMakeBorder(img1,10,10,10,10,cv.BORDER_REFLECT)\n",
    "reflect101 = cv.copyMakeBorder(img1,10,10,10,10,cv.BORDER_REFLECT_101)\n",
    "wrap = cv.copyMakeBorder(img1,10,10,10,10,cv.BORDER_WRAP)\n",
    "constant= cv.copyMakeBorder(img1,10,10,10,10,cv.BORDER_CONSTANT,value=BLUE)\n",
    "plt.subplot(231),plt.imshow(img1,'gray'),plt.title('ORIGINAL')\n",
    "plt.subplot(232),plt.imshow(replicate,'gray'),plt.title('REPLICATE')\n",
    "plt.subplot(233),plt.imshow(reflect,'gray'),plt.title('REFLECT')\n",
    "plt.subplot(234),plt.imshow(reflect101,'gray'),plt.title('REFLECT_101')\n",
    "plt.subplot(235),plt.imshow(wrap,'gray'),plt.title('WRAP')\n",
    "plt.subplot(236),plt.imshow(constant,'gray'),plt.title('CONSTANT')\n",
    "plt.show()"
   ]
  },
  {
   "cell_type": "markdown",
   "id": "f4233720",
   "metadata": {},
   "source": [
    "#### Image Addition \n",
    "\n",
    "You can add two images with the OpenCV function, cv.add(), or simply by the numpy operation res = img1 + img2. Both images should be of same depth and type, or the second image can just be a scalar value.\n",
    "\n",
    "#### Image Blending\n",
    "This is also image addition, but different weights are given to images in order to give a feeling of blending or transparency.\n",
    "\n",
    "The first image is given a weight of 0.7 and the second image is given 0.3. "
   ]
  },
  {
   "cell_type": "code",
   "execution_count": 20,
   "id": "883013b1",
   "metadata": {},
   "outputs": [],
   "source": [
    "img1 = cv.imread('blending.jpg')\n",
    "img2 = cv.imread('blending2.jpg')\n",
    "dst = cv.addWeighted(img1,0.7,img2,0.3,0)\n",
    "cv.imshow('dst',dst)\n",
    "cv.waitKey(0)\n",
    "cv.destroyAllWindows()"
   ]
  },
  {
   "cell_type": "markdown",
   "id": "aeae8bdd",
   "metadata": {},
   "source": [
    "#### Bitwise Operations\n",
    "\n",
    "This includes the bitwise AND, OR, NOT, and XOR operations. They will be highly useful while extracting any part of the image (as we will see in coming chapters), defining and working with non-rectangular ROI's, and etc"
   ]
  },
  {
   "cell_type": "code",
   "execution_count": 23,
   "id": "df250fef",
   "metadata": {},
   "outputs": [],
   "source": [
    "# Load two images\n",
    "img1 = cv.imread('1.jpg')\n",
    "img2 = cv.imread('blending2.jpg')\n",
    "# I want to put logo on top-left corner, So I create a ROI\n",
    "rows,cols,channels = img2.shape\n",
    "roi = img1[0:rows, 0:cols]\n",
    "# Now create a mask of logo and create its inverse mask also\n",
    "img2gray = cv.cvtColor(img2,cv.COLOR_BGR2GRAY)\n",
    "ret, mask = cv.threshold(img2gray, 10, 255, cv.THRESH_BINARY)\n",
    "mask_inv = cv.bitwise_not(mask)\n",
    "# Now black-out the area of logo in ROI\n",
    "img1_bg = cv.bitwise_and(roi,roi,mask = mask_inv)\n",
    "# Take only region of logo from logo image.\n",
    "img2_fg = cv.bitwise_and(img2,img2,mask = mask)\n",
    "# Put logo in ROI and modify the main image\n",
    "dst = cv.add(img1_bg,img2_fg)\n",
    "img1[0:rows, 0:cols ] = dst\n",
    "cv.imshow('res',img1)\n",
    "cv.waitKey(0)\n",
    "cv.destroyAllWindows()"
   ]
  },
  {
   "cell_type": "code",
   "execution_count": null,
   "id": "6cd9ba4e",
   "metadata": {},
   "outputs": [],
   "source": []
  }
 ],
 "metadata": {
  "kernelspec": {
   "display_name": "Python 3 (ipykernel)",
   "language": "python",
   "name": "python3"
  },
  "language_info": {
   "codemirror_mode": {
    "name": "ipython",
    "version": 3
   },
   "file_extension": ".py",
   "mimetype": "text/x-python",
   "name": "python",
   "nbconvert_exporter": "python",
   "pygments_lexer": "ipython3",
   "version": "3.9.12"
  }
 },
 "nbformat": 4,
 "nbformat_minor": 5
}
